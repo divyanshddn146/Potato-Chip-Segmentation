{
 "cells": [
  {
   "cell_type": "code",
   "execution_count": 1,
   "id": "b8f913fd-da2c-47fb-b9dd-955a9db969ee",
   "metadata": {},
   "outputs": [
    {
     "name": "stderr",
     "output_type": "stream",
     "text": [
      "C:\\Users\\divya\\anaconda3\\envs\\gpu_env\\lib\\site-packages\\h5py\\__init__.py:36: UserWarning: h5py is running against HDF5 1.14.6 when it was built against 1.14.5, this may cause problems\n",
      "  _warn((\"h5py is running against HDF5 {0} when it was built against {1}, \"\n"
     ]
    }
   ],
   "source": [
    "import tensorflow as tf\n",
    "from tensorflow import keras\n",
    "from keras import Sequential\n",
    "from keras.layers import Dense,Conv2D,MaxPooling2D,Flatten"
   ]
  },
  {
   "cell_type": "code",
   "execution_count": 2,
   "id": "f4b0e798-0328-46aa-b0fb-ea77d4729667",
   "metadata": {},
   "outputs": [
    {
     "name": "stdout",
     "output_type": "stream",
     "text": [
      "Found 769 files belonging to 2 classes.\n",
      "Found 192 files belonging to 2 classes.\n"
     ]
    }
   ],
   "source": [
    "train_ds = keras.utils.image_dataset_from_directory(directory = 'C:/Users/divya/Desktop/Chip_CNN/Pepsico/Train',\n",
    "                                       labels = \"inferred\",\n",
    "                                       label_mode = \"int\",\n",
    "                                       batch_size = 32,\n",
    "                                        image_size = (256,256)\n",
    "                                       )\n",
    "\n",
    "validation_ds = keras.utils.image_dataset_from_directory(directory = 'C:/Users/divya/Desktop/Chip_CNN/Pepsico/Test',\n",
    "                                       labels = \"inferred\",\n",
    "                                       label_mode = \"int\",\n",
    "                                       batch_size = 32,\n",
    "                                        image_size = (256,256)\n",
    "                                       )"
   ]
  },
  {
   "cell_type": "code",
   "execution_count": 3,
   "id": "f04fa14d-28db-4346-b529-6c3f86b1ca82",
   "metadata": {},
   "outputs": [],
   "source": [
    "# Normalize\n",
    "def process(image,label):\n",
    "    image = tf.cast(image/255,tf.float32)\n",
    "    return image,label\n",
    "\n",
    "train_ds = train_ds.map(process)\n",
    "validation_ds = validation_ds.map(process)"
   ]
  },
  {
   "cell_type": "code",
   "execution_count": 4,
   "id": "55f81631-60b4-4080-8510-cc80f7238c64",
   "metadata": {},
   "outputs": [],
   "source": [
    "## To create CNN Model\n",
    "\n",
    "model = Sequential()\n",
    "\n",
    "model.add(Conv2D(32,kernel_size = (3,3),padding = 'valid',activation = 'relu',input_shape=(256,256,3)))\n",
    "model.add(MaxPooling2D(pool_size = (2,2),strides = 2,padding = \"valid\"))\n",
    "\n",
    "model.add(Conv2D(64,kernel_size = (3,3),padding = \"valid\",activation = \"relu\"))\n",
    "model.add(MaxPooling2D(pool_size = (2,2),strides = 2,padding = \"valid\"))\n",
    "\n",
    "model.add(Conv2D(128,kernel_size = (3,3),padding = \"valid\",activation = \"relu\"))\n",
    "model.add(MaxPooling2D(pool_size = (2,2),strides = 2,padding = \"valid\"))\n",
    "\n",
    "model.add(Flatten())\n",
    "\n",
    "model.add(Dense(128,activation = \"relu\"))\n",
    "model.add(Dense(64,activation = \"relu\"))\n",
    "model.add(Dense(1,activation = \"sigmoid\"))"
   ]
  },
  {
   "cell_type": "code",
   "execution_count": 5,
   "id": "d384a129-2f44-46c7-b1c8-1ca970c58f34",
   "metadata": {},
   "outputs": [
    {
     "name": "stdout",
     "output_type": "stream",
     "text": [
      "Model: \"sequential\"\n",
      "_________________________________________________________________\n",
      " Layer (type)                Output Shape              Param #   \n",
      "=================================================================\n",
      " conv2d (Conv2D)             (None, 254, 254, 32)      896       \n",
      "                                                                 \n",
      " max_pooling2d (MaxPooling2D  (None, 127, 127, 32)     0         \n",
      " )                                                               \n",
      "                                                                 \n",
      " conv2d_1 (Conv2D)           (None, 125, 125, 64)      18496     \n",
      "                                                                 \n",
      " max_pooling2d_1 (MaxPooling  (None, 62, 62, 64)       0         \n",
      " 2D)                                                             \n",
      "                                                                 \n",
      " conv2d_2 (Conv2D)           (None, 60, 60, 128)       73856     \n",
      "                                                                 \n",
      " max_pooling2d_2 (MaxPooling  (None, 30, 30, 128)      0         \n",
      " 2D)                                                             \n",
      "                                                                 \n",
      " flatten (Flatten)           (None, 115200)            0         \n",
      "                                                                 \n",
      " dense (Dense)               (None, 128)               14745728  \n",
      "                                                                 \n",
      " dense_1 (Dense)             (None, 64)                8256      \n",
      "                                                                 \n",
      " dense_2 (Dense)             (None, 1)                 65        \n",
      "                                                                 \n",
      "=================================================================\n",
      "Total params: 14,847,297\n",
      "Trainable params: 14,847,297\n",
      "Non-trainable params: 0\n",
      "_________________________________________________________________\n"
     ]
    }
   ],
   "source": [
    "model.summary()"
   ]
  },
  {
   "cell_type": "code",
   "execution_count": 6,
   "id": "4888ed64-d55a-4bef-9f16-81ba9f84f751",
   "metadata": {},
   "outputs": [],
   "source": [
    "model.compile(\n",
    "    optimizer='adam',                  # Optimizer (e.g., Adam optimizer)\n",
    "    loss='binary_crossentropy',        # Loss function (e.g., Binary Crossentropy for binary classification)\n",
    "    metrics=['accuracy']               # Evaluation metric (e.g., Accuracy)\n",
    ")"
   ]
  },
  {
   "cell_type": "code",
   "execution_count": 7,
   "id": "40133b0a-2e03-456a-9ee1-3c412142f992",
   "metadata": {},
   "outputs": [
    {
     "name": "stdout",
     "output_type": "stream",
     "text": [
      "Epoch 1/12\n",
      "25/25 [==============================] - 28s 192ms/step - loss: 0.8475 - accuracy: 0.4993 - val_loss: 0.7315 - val_accuracy: 0.5208\n",
      "Epoch 2/12\n",
      "25/25 [==============================] - 7s 218ms/step - loss: 0.4607 - accuracy: 0.7906 - val_loss: 0.1040 - val_accuracy: 0.9479\n",
      "Epoch 3/12\n",
      "25/25 [==============================] - 7s 219ms/step - loss: 0.0882 - accuracy: 0.9701 - val_loss: 0.1514 - val_accuracy: 0.9583\n",
      "Epoch 4/12\n",
      "25/25 [==============================] - 8s 224ms/step - loss: 0.1995 - accuracy: 0.9636 - val_loss: 0.2539 - val_accuracy: 0.9271\n",
      "Epoch 5/12\n",
      "25/25 [==============================] - 7s 214ms/step - loss: 0.3405 - accuracy: 0.9233 - val_loss: 0.1566 - val_accuracy: 0.9583\n",
      "Epoch 6/12\n",
      "25/25 [==============================] - 7s 217ms/step - loss: 0.0791 - accuracy: 0.9831 - val_loss: 0.0449 - val_accuracy: 0.9896\n",
      "Epoch 7/12\n",
      "25/25 [==============================] - 7s 222ms/step - loss: 0.0777 - accuracy: 0.9857 - val_loss: 0.2201 - val_accuracy: 0.9635\n",
      "Epoch 8/12\n",
      "25/25 [==============================] - 7s 219ms/step - loss: 0.0674 - accuracy: 0.9883 - val_loss: 0.0191 - val_accuracy: 0.9948\n",
      "Epoch 9/12\n",
      "25/25 [==============================] - 7s 222ms/step - loss: 0.0365 - accuracy: 0.9935 - val_loss: 0.0236 - val_accuracy: 0.9948\n",
      "Epoch 10/12\n",
      "25/25 [==============================] - 7s 221ms/step - loss: 0.0161 - accuracy: 0.9974 - val_loss: 0.0232 - val_accuracy: 0.9948\n",
      "Epoch 11/12\n",
      "25/25 [==============================] - 8s 230ms/step - loss: 0.0283 - accuracy: 0.9948 - val_loss: 0.0773 - val_accuracy: 0.9792\n",
      "Epoch 12/12\n",
      "25/25 [==============================] - 8s 229ms/step - loss: 0.0334 - accuracy: 0.9948 - val_loss: 0.0038 - val_accuracy: 1.0000\n"
     ]
    }
   ],
   "source": [
    "history = model.fit(train_ds,epochs=12,validation_data = validation_ds)"
   ]
  },
  {
   "cell_type": "code",
   "execution_count": 8,
   "id": "9d6d9417-ce97-4380-9551-ee76e4e95a04",
   "metadata": {},
   "outputs": [],
   "source": [
    "import matplotlib.pyplot as plt"
   ]
  },
  {
   "cell_type": "code",
   "execution_count": 9,
   "id": "c717cb2d-8c9a-45a6-add8-b3226d8d9238",
   "metadata": {},
   "outputs": [
    {
     "data": {
      "image/png": "[encoded data removed]",
      "text/plain": [
       "<Figure size 640x480 with 1 Axes>"
      ]
     },
     "metadata": {},
     "output_type": "display_data"
    }
   ],
   "source": [
    "plt.plot(history.history[\"accuracy\"],color = \"red\",label=\"train\")\n",
    "plt.plot(history.history[\"val_accuracy\"],color=\"blue\",label = \"test\")\n",
    "plt.legend()\n",
    "plt.show()"
   ]
  },
  {
   "cell_type": "code",
   "execution_count": 10,
   "id": "f850dd51-fc13-4aed-b37e-4b2ea17d95c6",
   "metadata": {},
   "outputs": [],
   "source": [
    "model.save('model.keras')"
   ]
  },
  {
   "cell_type": "code",
   "execution_count": 11,
   "id": "875fd8c3-3ff8-4150-bc47-bb7b6cbb27d4",
   "metadata": {},
   "outputs": [],
   "source": [
    "model.save('model.h5')  # or 'model_name.h5'"
   ]
  },
  {
   "cell_type": "code",
   "execution_count": null,
   "id": "bd65a3f4-9b4b-43f6-9fbf-36b95811bed0",
   "metadata": {},
   "outputs": [],
   "source": []
  },
  {
   "cell_type": "code",
   "execution_count": null,
   "id": "2f57ac5f-1d43-499b-a035-b2113db7c1fb",
   "metadata": {},
   "outputs": [],
   "source": []
  }
 ],
 "metadata": {
  "kernelspec": {
   "display_name": "Python 3 (ipykernel)",
   "language": "python",
   "name": "python3"
  },
  "language_info": {
   "codemirror_mode": {
    "name": "ipython",
    "version": 3
   },
   "file_extension": ".py",
   "mimetype": "text/x-python",
   "name": "python",
   "nbconvert_exporter": "python",
   "pygments_lexer": "ipython3",
   "version": "3.9.18"
  }
 },
 "nbformat": 4,
 "nbformat_minor": 5
}
